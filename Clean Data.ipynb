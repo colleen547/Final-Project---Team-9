{
 "cells": [
  {
   "cell_type": "code",
   "execution_count": null,
   "metadata": {},
   "outputs": [],
   "source": [
    "from config import gkey\n",
    "import pandas as pd\n",
    "import requests\n",
    "import json\n",
    "import numpy as np\n",
    "from time import sleep\n",
    "\n",
    "\n",
    "def getplace(lat, lon):\n",
    "    \"\"\"Returns the country for a given latitude and longitude\"\"\"\n",
    "    # 50 requests per second limit\n",
    "    sleep(0.02)\n",
    "    \n",
    "    # build url\n",
    "    url = \"https://maps.googleapis.com/maps/api/geocode/json?\"\n",
    "    url += \"latlng=%s,%s&sensor=false\" % (lat, lon)\n",
    "    \n",
    "    params = {'key': gkey}\n",
    "    \n",
    "    # send request\n",
    "    r = requests.get(url, params=params)\n",
    "    j = r.json()\n",
    "    # locate country\n",
    "    components = j['results'][0]['address_components']\n",
    "    short = None\n",
    "    for c in components:\n",
    "        if \"country\" in c['types']:\n",
    "            short = c['short_name']\n",
    "    return short\n",
    "\n"
   ]
  },
  {
   "cell_type": "code",
   "execution_count": null,
   "metadata": {},
   "outputs": [],
   "source": [
    "# File paths\n",
    "default = 'Raw_Data/default_features_1059_tracks.txt'\n",
    "chromatic = 'Raw_Data/default_plus_chromatic_features_1059_tracks.txt'\n",
    "\n",
    "default_clean = 'Cleaned_Data/default.csv'\n",
    "chromatic_clean = 'Cleaned_Data/chromatic.csv'\n",
    "country_regions_clean = 'Cleaned_Data/country_regions.csv'"
   ]
  },
  {
   "cell_type": "code",
   "execution_count": null,
   "metadata": {},
   "outputs": [],
   "source": [
    "# read country_regions data in\n",
    "country_regions = pd.read_csv(country_regions_clean)\n",
    "\n",
    "# read in raw text file\n",
    "default_df = pd.read_csv(default, header=None)\n",
    "chromatic_df = pd.read_csv(chromatic, header=None)\n",
    "\n",
    "# add lat long names\n",
    "default_df.rename(columns={68: 'Latitude', 69: 'Longitude'}, inplace=True)\n",
    "chromatic_df.rename(columns={116: 'Latitude', 117: 'Longitude'}, inplace=True)"
   ]
  },
  {
   "cell_type": "code",
   "execution_count": null,
   "metadata": {},
   "outputs": [],
   "source": [
    "# Verify that latitude and longitude columns are the same\n",
    "if chromatic_df['Latitude'].equals(default_df['Latitude']) and chromatic_df['Longitude'].equals(default_df['Longitude']):\n",
    "    print('Lat/Long columns are identical for both dataframes')\n",
    "else:\n",
    "    print('Error, check columns')"
   ]
  },
  {
   "cell_type": "code",
   "execution_count": null,
   "metadata": {
    "scrolled": true
   },
   "outputs": [],
   "source": [
    "country_name = []\n",
    "short_name = []\n",
    "sub_region = []\n",
    "region = []\n",
    "\n",
    "# using getplace, create list of countries and their abbreviated names\n",
    "for index, row in default_df.iterrows():\n",
    "    short = getplace(row['Latitude'], row['Longitude'])\n",
    "    \n",
    "    # find corresponding country details using the shortname\n",
    "    idx = country_regions.loc[country_regions['Short_Name'] == short]\n",
    "    \n",
    "    short_name.append(short)\n",
    "    country_name.append(idx['Country'].values[0])\n",
    "    sub_region.append(idx['Sub_Region'].values[0])\n",
    "    region.append(idx['Region'].values[0])"
   ]
  },
  {
   "cell_type": "code",
   "execution_count": null,
   "metadata": {},
   "outputs": [],
   "source": [
    "# create columns for country/region details\n",
    "default_df['Short_Name'] = short_name\n",
    "default_df['Country'] = country_name\n",
    "default_df['Region'] = region\n",
    "default_df['Sub_Region'] = sub_region"
   ]
  },
  {
   "cell_type": "code",
   "execution_count": null,
   "metadata": {},
   "outputs": [],
   "source": [
    "# share columns with chromatic_df\n",
    "chromatic_df['Short_Name'] = default_df['Short_Name']\n",
    "chromatic_df['Country'] = default_df['Country']\n",
    "chromatic_df['Region'] = default_df['Region']\n",
    "chromatic_df['Sub_Region'] = default_df['Sub_Region']"
   ]
  },
  {
   "cell_type": "code",
   "execution_count": null,
   "metadata": {},
   "outputs": [],
   "source": [
    "# save csvs\n",
    "default_df.to_csv(default_clean, index=False)\n",
    "chromatic_df.to_csv(chromatic_clean, index=False)"
   ]
  },
  {
   "cell_type": "code",
   "execution_count": null,
   "metadata": {},
   "outputs": [],
   "source": []
  }
 ],
 "metadata": {
  "kernelspec": {
   "display_name": "Python 3",
   "language": "python",
   "name": "python3"
  },
  "language_info": {
   "codemirror_mode": {
    "name": "ipython",
    "version": 3
   },
   "file_extension": ".py",
   "mimetype": "text/x-python",
   "name": "python",
   "nbconvert_exporter": "python",
   "pygments_lexer": "ipython3",
   "version": "3.6.10"
  }
 },
 "nbformat": 4,
 "nbformat_minor": 4
}
