{
 "cells": [
  {
   "cell_type": "code",
   "execution_count": null,
   "metadata": {},
   "outputs": [],
   "source": [
    "import pandas as pd\n",
    "\n",
    "\n",
    "def getregions(country_codes):\n",
    "    regions = [codes[code.strip()] for code in country_codes.split('<') if code.strip() in codes.keys()]\n",
    "    \n",
    "    # correct for South America's lack of regions\n",
    "    if len(regions) == 1:\n",
    "        regions.append(regions[0])\n",
    "    \n",
    "    return regions\n",
    "\n"
   ]
  },
  {
   "cell_type": "code",
   "execution_count": null,
   "metadata": {},
   "outputs": [],
   "source": [
    "# first table on this page gives region codes\n",
    "un_codes = pd.read_html('https://en.wikipedia.org/wiki/UN_M49')[0]\n",
    "\n",
    "# assign column names\n",
    "un_codes.columns = ['Code', 'Area']\n",
    "\n",
    "# drop any rows that are NA or not numeric in Code column\n",
    "un_codes = un_codes[pd.to_numeric(un_codes['Code'], errors='coerce').notnull()]\n",
    "\n",
    "# remove bracketed text\n",
    "un_codes.Area = un_codes.Area.str.replace(r'(\\[.*)','')\n",
    "# remove parenthetical text\n",
    "un_codes.Area = un_codes.Area.str.replace(r'(\\(.*)','')\n",
    "# trim whitespace\n",
    "un_codes.Area = un_codes.Area.str.strip()\n",
    "\n",
    "# remove duplicate rows\n",
    "un_codes.drop_duplicates(inplace=True)\n",
    "\n",
    "# remove non-helpful codes world, americas, subsarahan africa, LAC, channel islands\n",
    "del_codes = ['001', '019', '202', '419', '830']\n",
    "un_codes.drop(un_codes[un_codes.Code.isin(del_codes)].index, inplace=True)\n",
    "\n",
    "# sort by code\n",
    "un_codes.sort_values(by='Code', inplace=True)\n",
    "\n",
    "# convert to dict\n",
    "un_codes.set_index('Code', inplace=True)\n",
    "codes = un_codes.to_dict()['Area']"
   ]
  },
  {
   "cell_type": "code",
   "execution_count": null,
   "metadata": {},
   "outputs": [],
   "source": [
    "# first table in page gives countries and codes\n",
    "country_codes = pd.read_html('https://en.wikipedia.org/wiki/List_of_countries_by_United_Nations_geoscheme')[0]\n",
    "\n",
    "# simplify column names\n",
    "country_codes.columns = [tup[1] for tup in country_codes.columns]\n",
    "\n",
    "# drop unused columns\n",
    "country_codes.drop(columns=['Capital', 'Alpha-3[1][2]', 'Numeric[1][2]'], inplace=True)\n",
    "\n",
    "# rename columns\n",
    "country_codes.columns = ['Country', 'Short_Name', 'Code']\n",
    "\n",
    "# apply getregions to return subregion/region\n",
    "regions = country_codes.Code.apply(getregions)\n",
    "\n",
    "# create df from series of lists\n",
    "regions_df = pd.DataFrame(regions.to_list(), columns=['Sub_Region', 'Region'])\n",
    "\n",
    "# append to country_codes dataset\n",
    "country_codes['Sub_Region'] = regions_df['Sub_Region'].astype(str)\n",
    "country_codes['Region'] = regions_df['Region'].astype(str)\n",
    "\n",
    "# drop code column\n",
    "country_codes.drop(columns=['Code'], inplace=True)\n",
    "\n",
    "# not sure why it doesn't parse this correctly, so we're manually writing it\n",
    "country_codes['Short_Name'][0] = 'DZ'\n",
    "\n",
    "# adding Taiwan manually because the dataset calls it out, but the UN doesn't recognize it\n",
    "taiwan = {'Country': 'Taiwan', 'Short_Name': 'TW', 'Sub_Region': 'Eastern Asia', 'Region': 'Asia'}\n",
    "country_codes = country_codes.append(taiwan, ignore_index=True)\n",
    "\n",
    "# Write to csv\n",
    "country_codes.to_csv('Cleaned_Data/country_regions.csv', index=False)"
   ]
  },
  {
   "cell_type": "code",
   "execution_count": null,
   "metadata": {},
   "outputs": [],
   "source": []
  },
  {
   "cell_type": "code",
   "execution_count": null,
   "metadata": {},
   "outputs": [],
   "source": []
  },
  {
   "cell_type": "code",
   "execution_count": null,
   "metadata": {},
   "outputs": [],
   "source": []
  }
 ],
 "metadata": {
  "kernelspec": {
   "display_name": "Python 3",
   "language": "python",
   "name": "python3"
  },
  "language_info": {
   "codemirror_mode": {
    "name": "ipython",
    "version": 3
   },
   "file_extension": ".py",
   "mimetype": "text/x-python",
   "name": "python",
   "nbconvert_exporter": "python",
   "pygments_lexer": "ipython3",
   "version": "3.6.12"
  }
 },
 "nbformat": 4,
 "nbformat_minor": 4
}
